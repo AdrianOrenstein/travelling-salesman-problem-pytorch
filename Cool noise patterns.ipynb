{
 "cells": [
  {
   "cell_type": "code",
   "execution_count": null,
   "metadata": {},
   "outputs": [],
   "source": [
    "!pip install noise"
   ]
  },
  {
   "cell_type": "code",
   "execution_count": null,
   "metadata": {},
   "outputs": [],
   "source": [
    "#https://github.com/pvigier/perlin-numpy\n",
    "#https://jackmckew.dev/3d-terrain-in-python.html"
   ]
  },
  {
   "cell_type": "code",
   "execution_count": null,
   "metadata": {},
   "outputs": [],
   "source": [
    "import noise\n",
    "import numpy as np\n",
    "import matplotlib\n",
    "from mpl_toolkits.mplot3d import axes3d"
   ]
  },
  {
   "cell_type": "code",
   "execution_count": null,
   "metadata": {},
   "outputs": [],
   "source": [
    "shape = (50,50)\n",
    "scale = 100.0\n",
    "octaves = 6\n",
    "persistence = 0.5\n",
    "lacunarity = 2.0\n",
    "world = np.zeros(shape)\n",
    "for i in range(shape[0]):\n",
    "    for j in range(shape[1]):\n",
    "        world[i][j] = noise.pnoise2(i/scale, \n",
    "                                    j/scale, \n",
    "                                    octaves=octaves, \n",
    "                                    persistence=persistence, \n",
    "                                    lacunarity=lacunarity, \n",
    "                                    repeatx=1024, \n",
    "                                    repeaty=1024, \n",
    "                                    base=42)"
   ]
  },
  {
   "cell_type": "code",
   "execution_count": null,
   "metadata": {},
   "outputs": [],
   "source": [
    "lin_x = np.linspace(0,1,shape[0],endpoint=False)\n",
    "lin_y = np.linspace(0,1,shape[1],endpoint=False)\n",
    "x,y = np.meshgrid(lin_x,lin_y)"
   ]
  },
  {
   "cell_type": "code",
   "execution_count": null,
   "metadata": {},
   "outputs": [],
   "source": [
    "fig = matplotlib.pyplot.figure()\n",
    "ax = fig.add_subplot(111, projection=\"3d\")\n",
    "ax.plot_surface(x,y,world,cmap='terrain')"
   ]
  },
  {
   "cell_type": "code",
   "execution_count": null,
   "metadata": {},
   "outputs": [],
   "source": [
    "from sknetwork.visualization import svg_graph, svg_digraph, svg_bigraph\n",
    "from sknetwork.utils import edgelist2adjacency, edgelist2biadjacency\n",
    "import random\n",
    "import time\n",
    "from multiprocessing import Process\n",
    "from typing import *\n",
    "\n",
    "import numpy as np\n",
    "import requests\n",
    "import torch\n",
    "from concorde.tsp import TSPSolver\n",
    "from concorde.tests.data_utils import get_dataset_path\n",
    "from scipy.spatial import distance\n",
    "from tqdm.autonotebook import tqdm\n",
    "\n",
    "from ml.tspsolver import DefaultTSPSolver\n",
    "\n",
    "\n",
    "class BeamSearchSolver(DefaultTSPSolver):\n",
    "    def __init__(self, **kwargs):\n",
    "        super().__init__(**kwargs)\n",
    "\n",
    "        self.adjacency_matrix = self._build_adjacency_matrix(\n",
    "            self.city_locations)\n",
    "\n",
    "    def _normalise_city_distances(self,) -> torch.Tensor:\n",
    "        \"\"\"\n",
    "        Normalise distances between 0 and 1\n",
    "\n",
    "        \"\"\"\n",
    "\n",
    "        pass\n",
    "\n",
    "    def _build_adjacency_matrix(self, locations: List[List[Union[float, int]]]) -> torch.Tensor:\n",
    "        \"\"\"\n",
    "        Using normalised\n",
    "        \"\"\"\n",
    "\n",
    "        locations = np.array(locations)\n",
    "\n",
    "        num_nodes, channels = locations.shape\n",
    "\n",
    "        adjacency_matrix = np.zeros((channels, num_nodes, num_nodes))\n",
    "        # pip install scikit-network\n",
    "        # pip install ipython\n",
    "        # TODO: ADD to makefile\n",
    "        # https://scikit-network.readthedocs.io/en/latest/tutorials/getting_started.html\n",
    "        from IPython.display import SVG\n",
    "        SVG(svg_graph(edgelist2adjacency(locations, undirected=True)))\n",
    "\n",
    "        return None\n",
    "\n",
    "    def run(self,):\n",
    "        city_locations = np.array(self.city_locations)\n",
    "\n",
    "        # solver = TSPSolver.from_data(\n",
    "        #     xs=list(city_locations[:, 0]), ys=list(city_locations[:, 1]), norm=\"EUC_2D\")\n",
    "\n",
    "        # path = solver.solve()\n",
    "\n",
    "        # data = {\n",
    "        #     \"user_name\": \"adrian\",\n",
    "        #     \"algorithm_name\": \"concorde\",\n",
    "        #     \"message\": \"testing groundtruth script\",\n",
    "        #     \"city_order\": np.array(path.tour, dtype=int).tolist(),\n",
    "        # }\n",
    "\n",
    "        # response = requests.post(\n",
    "        #     f\"http://{self.address}:{self.port}/submit\", json=data\n",
    "        # )\n",
    "\n",
    "        # return path.tour\n",
    "        return None\n",
    "\n",
    "\n",
    "# conda install -c anaconda cython\n",
    "# git clone https: // github.com / jvkersch / pyconcorde\n",
    "# pip install - e pyconcorde\n",
    "\n",
    "\n",
    "if __name__ == \"__main__\":\n",
    "    solver = BeamSearchSolver(address=\"10.90.185.46\", port=\"8000\")\n",
    "\n",
    "    # fname = get_dataset_path(\"berlin52\")\n",
    "    # solver = TSPSolver.from_tspfile(fname)\n",
    "\n",
    "    print(solver.run())\n"
   ]
  },
  {
   "cell_type": "code",
   "execution_count": null,
   "metadata": {},
   "outputs": [],
   "source": [
    "from IPython.display import SVG\n",
    "SVG(svg_graph(edgelist2adjacency(np.random.rand(20, 2)*20, undirected=True)))"
   ]
  },
  {
   "cell_type": "code",
   "execution_count": null,
   "metadata": {},
   "outputs": [],
   "source": [
    "edgelist2adjacency(np.random.rand(20, 2)*20, undirected=True)"
   ]
  },
  {
   "cell_type": "code",
   "execution_count": null,
   "metadata": {},
   "outputs": [],
   "source": [
    "len(solver.city_locations)"
   ]
  }
 ],
 "metadata": {
  "kernelspec": {
   "display_name": "Python 3",
   "language": "python",
   "name": "python3"
  },
  "language_info": {
   "codemirror_mode": {
    "name": "ipython",
    "version": 3
   },
   "file_extension": ".py",
   "mimetype": "text/x-python",
   "name": "python",
   "nbconvert_exporter": "python",
   "pygments_lexer": "ipython3",
   "version": "3.8.5"
  }
 },
 "nbformat": 4,
 "nbformat_minor": 4
}
